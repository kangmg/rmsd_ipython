{
  "cells": [
    {
      "cell_type": "markdown",
      "metadata": {
        "id": "view-in-github",
        "colab_type": "text"
      },
      "source": [
        "<a href=\"https://colab.research.google.com/github/kangmg/rmsd_ipython/blob/master/notebooks/usage_tutorials.ipynb\" target=\"_parent\"><img src=\"https://colab.research.google.com/assets/colab-badge.svg\" alt=\"Open In Colab\"/></a>"
      ]
    },
    {
      "cell_type": "code",
      "source": [
        "# install rmsd_ipython\n",
        "!pip install -q git+https://github.com/kangmg/rmsd_ipython.git"
      ],
      "metadata": {
        "id": "VG9OFHLfIw04",
        "outputId": "cb96d32f-684e-4e0d-f97d-117a4bfc6d3b",
        "colab": {
          "base_uri": "https://localhost:8080/"
        }
      },
      "execution_count": null,
      "outputs": [
        {
          "output_type": "stream",
          "name": "stdout",
          "text": [
            "  Preparing metadata (setup.py) ... \u001b[?25l\u001b[?25hdone\n",
            "  Building wheel for rmsd-ipython (setup.py) ... \u001b[?25l\u001b[?25hdone\n"
          ]
        }
      ]
    },
    {
      "cell_type": "code",
      "source": [
        "# rmsd_ipython version\n",
        "import rmsd_ipython\n",
        "rmsd_ipython.__version__ # 0.0.1"
      ],
      "metadata": {
        "id": "_d2_3UeGJKgs",
        "outputId": "63002086-493c-4673-9983-8b0d7d647289",
        "colab": {
          "base_uri": "https://localhost:8080/",
          "height": 35
        }
      },
      "execution_count": null,
      "outputs": [
        {
          "output_type": "execute_result",
          "data": {
            "text/plain": [
              "'0.0.1'"
            ],
            "application/vnd.google.colaboratory.intrinsic+json": {
              "type": "string"
            }
          },
          "metadata": {},
          "execution_count": 2
        }
      ]
    },
    {
      "cell_type": "code",
      "source": [
        "# show available options\n",
        "from rmsd_ipython import rmsd_options\n",
        "\n",
        "rmsd_options()"
      ],
      "metadata": {
        "id": "3ygKguPEJLwW",
        "outputId": "b25bdd96-9a76-4585-d87c-4e987b301dd4",
        "colab": {
          "base_uri": "https://localhost:8080/"
        }
      },
      "execution_count": null,
      "outputs": [
        {
          "output_type": "stream",
          "name": "stdout",
          "text": [
            "\n",
            "____________.____________________________________________________________________________\n",
            " \u001b[0;34mParameters\u001b[0m |                            \u001b[0;34mSupported methods\u001b[0m\n",
            "____________.____________________________________________________________________________\n",
            "  rotation  |                      None, 'kabsch', 'quaternion'\n",
            "____________.____________________________________________________________________________\n",
            "  reorder   |          None, 'hungarian', 'inertia-hungarian', 'brute', 'distance'\n",
            "____________.____________________________________________________________________________\n",
            "\n",
            "\n"
          ]
        }
      ]
    },
    {
      "cell_type": "code",
      "source": [
        "xyz1 = \"\"\"6\n",
        "\n",
        "Cl    0.000315113091   -4.851256508727    0.000000000000\n",
        "Si    0.000008122666   -0.081479435428    0.000000000000\n",
        "H   -1.409996918298   -0.481349820968    0.000000000000\n",
        "H    0.705178765477   -0.481189816756   -1.221101893621\n",
        "H    0.705178765477   -0.481189816756    1.221101893621\n",
        "Br   -0.000147111879    2.196922164251    0.000000000000\"\"\"\n",
        "\n",
        "xyz2 = \"\"\"6\n",
        "\n",
        "Cl    0.000308701706   -4.739114565961    0.000000000000\n",
        "Si    0.000011888584   -0.119054586111    0.000000000000\n",
        "H   -1.411266251779   -0.514082066748    0.000000000000\n",
        "H    0.705205731485   -0.514578303328   -1.222045485239\n",
        "H    0.705205731485   -0.514578303328    1.222045485239\n",
        "Br   -0.000130084759    2.161823224660    0.000000000000\"\"\""
      ],
      "metadata": {
        "id": "CgNYPcFNJNLA"
      },
      "execution_count": null,
      "outputs": []
    },
    {
      "cell_type": "code",
      "source": [
        "# RMSD value\n",
        "from rmsd_ipython import get_rmsd\n",
        "\n",
        "get_rmsd(xyz1, xyz2, rotation_method=\"quaternion\", reorder_method=\"hungarian\", ignore_hydrogen=False)"
      ],
      "metadata": {
        "id": "uBiDN4K1JOhM",
        "outputId": "83017e35-6a30-4384-dbd5-18c15671f911",
        "colab": {
          "base_uri": "https://localhost:8080/"
        }
      },
      "execution_count": null,
      "outputs": [
        {
          "output_type": "execute_result",
          "data": {
            "text/plain": [
              "0.054654876183060516"
            ]
          },
          "metadata": {},
          "execution_count": 5
        }
      ]
    },
    {
      "cell_type": "code",
      "source": [
        "# RMSD Summary table\n",
        "\n",
        "from rmsd_ipython import RMSD_TABLE\n",
        "\n",
        "RMSD_TABLE(xyz1, xyz2, exclude_None_option=False, round_digit=7)"
      ],
      "metadata": {
        "id": "Cflyeq1tJSsY",
        "outputId": "b5aa5fb4-d1a8-4ace-e9b5-6c758c1becbd",
        "colab": {
          "base_uri": "https://localhost:8080/",
          "height": 1000
        }
      },
      "execution_count": null,
      "outputs": [
        {
          "output_type": "display_data",
          "data": {
            "text/plain": [
              "<pandas.io.formats.style.Styler at 0x7f4a6c27eb60>"
            ],
            "text/html": [
              "<style type=\"text/css\">\n",
              "#T_6c4c2_row1_col0, #T_6c4c2_row1_col1, #T_6c4c2_row1_col2, #T_6c4c2_row1_col3, #T_6c4c2_row2_col0, #T_6c4c2_row2_col1, #T_6c4c2_row2_col2, #T_6c4c2_row2_col3, #T_6c4c2_row6_col0, #T_6c4c2_row6_col1, #T_6c4c2_row6_col2, #T_6c4c2_row6_col3, #T_6c4c2_row7_col0, #T_6c4c2_row7_col1, #T_6c4c2_row7_col2, #T_6c4c2_row7_col3, #T_6c4c2_row11_col0, #T_6c4c2_row11_col1, #T_6c4c2_row11_col2, #T_6c4c2_row11_col3, #T_6c4c2_row12_col0, #T_6c4c2_row12_col1, #T_6c4c2_row12_col2, #T_6c4c2_row12_col3 {\n",
              "  opacity: 0.5;\n",
              "}\n",
              "</style>\n",
              "<table id=\"T_6c4c2\" class=\"dataframe\">\n",
              "  <caption><span style='font-size:150%;'>RMSD Table (including Hydrogens)</span></caption>\n",
              "  <thead>\n",
              "    <tr>\n",
              "      <th class=\"blank level0\" >&nbsp;</th>\n",
              "      <th id=\"T_6c4c2_level0_col0\" class=\"col_heading level0 col0\" >Rotation</th>\n",
              "      <th id=\"T_6c4c2_level0_col1\" class=\"col_heading level0 col1\" >Reorder</th>\n",
              "      <th id=\"T_6c4c2_level0_col2\" class=\"col_heading level0 col2\" >ignore_H</th>\n",
              "      <th id=\"T_6c4c2_level0_col3\" class=\"col_heading level0 col3\" >RMSD</th>\n",
              "    </tr>\n",
              "  </thead>\n",
              "  <tbody>\n",
              "    <tr>\n",
              "      <th id=\"T_6c4c2_level0_row0\" class=\"row_heading level0 row0\" >0</th>\n",
              "      <td id=\"T_6c4c2_row0_col0\" class=\"data row0 col0\" >kabsch</td>\n",
              "      <td id=\"T_6c4c2_row0_col1\" class=\"data row0 col1\" >hungarian</td>\n",
              "      <td id=\"T_6c4c2_row0_col2\" class=\"data row0 col2\" >False</td>\n",
              "      <td id=\"T_6c4c2_row0_col3\" class=\"data row0 col3\" >0.054655</td>\n",
              "    </tr>\n",
              "    <tr>\n",
              "      <th id=\"T_6c4c2_level0_row1\" class=\"row_heading level0 row1\" >1</th>\n",
              "      <td id=\"T_6c4c2_row1_col0\" class=\"data row1 col0\" >kabsch</td>\n",
              "      <td id=\"T_6c4c2_row1_col1\" class=\"data row1 col1\" >inertia-hungarian</td>\n",
              "      <td id=\"T_6c4c2_row1_col2\" class=\"data row1 col2\" >False</td>\n",
              "      <td id=\"T_6c4c2_row1_col3\" class=\"data row1 col3\" >0.054655</td>\n",
              "    </tr>\n",
              "    <tr>\n",
              "      <th id=\"T_6c4c2_level0_row2\" class=\"row_heading level0 row2\" >2</th>\n",
              "      <td id=\"T_6c4c2_row2_col0\" class=\"data row2 col0\" >kabsch</td>\n",
              "      <td id=\"T_6c4c2_row2_col1\" class=\"data row2 col1\" >brute</td>\n",
              "      <td id=\"T_6c4c2_row2_col2\" class=\"data row2 col2\" >False</td>\n",
              "      <td id=\"T_6c4c2_row2_col3\" class=\"data row2 col3\" >0.054655</td>\n",
              "    </tr>\n",
              "    <tr>\n",
              "      <th id=\"T_6c4c2_level0_row3\" class=\"row_heading level0 row3\" >3</th>\n",
              "      <td id=\"T_6c4c2_row3_col0\" class=\"data row3 col0\" >kabsch</td>\n",
              "      <td id=\"T_6c4c2_row3_col1\" class=\"data row3 col1\" >distance</td>\n",
              "      <td id=\"T_6c4c2_row3_col2\" class=\"data row3 col2\" >False</td>\n",
              "      <td id=\"T_6c4c2_row3_col3\" class=\"data row3 col3\" >0.054655</td>\n",
              "    </tr>\n",
              "    <tr>\n",
              "      <th id=\"T_6c4c2_level0_row4\" class=\"row_heading level0 row4\" >4</th>\n",
              "      <td id=\"T_6c4c2_row4_col0\" class=\"data row4 col0\" >kabsch</td>\n",
              "      <td id=\"T_6c4c2_row4_col1\" class=\"data row4 col1\" >None</td>\n",
              "      <td id=\"T_6c4c2_row4_col2\" class=\"data row4 col2\" >False</td>\n",
              "      <td id=\"T_6c4c2_row4_col3\" class=\"data row4 col3\" >0.054655</td>\n",
              "    </tr>\n",
              "    <tr>\n",
              "      <th id=\"T_6c4c2_level0_row5\" class=\"row_heading level0 row5\" >5</th>\n",
              "      <td id=\"T_6c4c2_row5_col0\" class=\"data row5 col0\" >quaternion</td>\n",
              "      <td id=\"T_6c4c2_row5_col1\" class=\"data row5 col1\" >hungarian</td>\n",
              "      <td id=\"T_6c4c2_row5_col2\" class=\"data row5 col2\" >False</td>\n",
              "      <td id=\"T_6c4c2_row5_col3\" class=\"data row5 col3\" >0.054655</td>\n",
              "    </tr>\n",
              "    <tr>\n",
              "      <th id=\"T_6c4c2_level0_row6\" class=\"row_heading level0 row6\" >6</th>\n",
              "      <td id=\"T_6c4c2_row6_col0\" class=\"data row6 col0\" >quaternion</td>\n",
              "      <td id=\"T_6c4c2_row6_col1\" class=\"data row6 col1\" >inertia-hungarian</td>\n",
              "      <td id=\"T_6c4c2_row6_col2\" class=\"data row6 col2\" >False</td>\n",
              "      <td id=\"T_6c4c2_row6_col3\" class=\"data row6 col3\" >0.054655</td>\n",
              "    </tr>\n",
              "    <tr>\n",
              "      <th id=\"T_6c4c2_level0_row7\" class=\"row_heading level0 row7\" >7</th>\n",
              "      <td id=\"T_6c4c2_row7_col0\" class=\"data row7 col0\" >quaternion</td>\n",
              "      <td id=\"T_6c4c2_row7_col1\" class=\"data row7 col1\" >brute</td>\n",
              "      <td id=\"T_6c4c2_row7_col2\" class=\"data row7 col2\" >False</td>\n",
              "      <td id=\"T_6c4c2_row7_col3\" class=\"data row7 col3\" >0.054655</td>\n",
              "    </tr>\n",
              "    <tr>\n",
              "      <th id=\"T_6c4c2_level0_row8\" class=\"row_heading level0 row8\" >8</th>\n",
              "      <td id=\"T_6c4c2_row8_col0\" class=\"data row8 col0\" >quaternion</td>\n",
              "      <td id=\"T_6c4c2_row8_col1\" class=\"data row8 col1\" >distance</td>\n",
              "      <td id=\"T_6c4c2_row8_col2\" class=\"data row8 col2\" >False</td>\n",
              "      <td id=\"T_6c4c2_row8_col3\" class=\"data row8 col3\" >0.054655</td>\n",
              "    </tr>\n",
              "    <tr>\n",
              "      <th id=\"T_6c4c2_level0_row9\" class=\"row_heading level0 row9\" >9</th>\n",
              "      <td id=\"T_6c4c2_row9_col0\" class=\"data row9 col0\" >quaternion</td>\n",
              "      <td id=\"T_6c4c2_row9_col1\" class=\"data row9 col1\" >None</td>\n",
              "      <td id=\"T_6c4c2_row9_col2\" class=\"data row9 col2\" >False</td>\n",
              "      <td id=\"T_6c4c2_row9_col3\" class=\"data row9 col3\" >0.054655</td>\n",
              "    </tr>\n",
              "    <tr>\n",
              "      <th id=\"T_6c4c2_level0_row10\" class=\"row_heading level0 row10\" >10</th>\n",
              "      <td id=\"T_6c4c2_row10_col0\" class=\"data row10 col0\" >None</td>\n",
              "      <td id=\"T_6c4c2_row10_col1\" class=\"data row10 col1\" >hungarian</td>\n",
              "      <td id=\"T_6c4c2_row10_col2\" class=\"data row10 col2\" >False</td>\n",
              "      <td id=\"T_6c4c2_row10_col3\" class=\"data row10 col3\" >0.054655</td>\n",
              "    </tr>\n",
              "    <tr>\n",
              "      <th id=\"T_6c4c2_level0_row11\" class=\"row_heading level0 row11\" >11</th>\n",
              "      <td id=\"T_6c4c2_row11_col0\" class=\"data row11 col0\" >None</td>\n",
              "      <td id=\"T_6c4c2_row11_col1\" class=\"data row11 col1\" >inertia-hungarian</td>\n",
              "      <td id=\"T_6c4c2_row11_col2\" class=\"data row11 col2\" >False</td>\n",
              "      <td id=\"T_6c4c2_row11_col3\" class=\"data row11 col3\" >1.728429</td>\n",
              "    </tr>\n",
              "    <tr>\n",
              "      <th id=\"T_6c4c2_level0_row12\" class=\"row_heading level0 row12\" >12</th>\n",
              "      <td id=\"T_6c4c2_row12_col0\" class=\"data row12 col0\" >None</td>\n",
              "      <td id=\"T_6c4c2_row12_col1\" class=\"data row12 col1\" >brute</td>\n",
              "      <td id=\"T_6c4c2_row12_col2\" class=\"data row12 col2\" >False</td>\n",
              "      <td id=\"T_6c4c2_row12_col3\" class=\"data row12 col3\" >1.728429</td>\n",
              "    </tr>\n",
              "    <tr>\n",
              "      <th id=\"T_6c4c2_level0_row13\" class=\"row_heading level0 row13\" >13</th>\n",
              "      <td id=\"T_6c4c2_row13_col0\" class=\"data row13 col0\" >None</td>\n",
              "      <td id=\"T_6c4c2_row13_col1\" class=\"data row13 col1\" >distance</td>\n",
              "      <td id=\"T_6c4c2_row13_col2\" class=\"data row13 col2\" >False</td>\n",
              "      <td id=\"T_6c4c2_row13_col3\" class=\"data row13 col3\" >0.054655</td>\n",
              "    </tr>\n",
              "    <tr>\n",
              "      <th id=\"T_6c4c2_level0_row14\" class=\"row_heading level0 row14\" >14</th>\n",
              "      <td id=\"T_6c4c2_row14_col0\" class=\"data row14 col0\" >None</td>\n",
              "      <td id=\"T_6c4c2_row14_col1\" class=\"data row14 col1\" >None</td>\n",
              "      <td id=\"T_6c4c2_row14_col2\" class=\"data row14 col2\" >False</td>\n",
              "      <td id=\"T_6c4c2_row14_col3\" class=\"data row14 col3\" >0.054655</td>\n",
              "    </tr>\n",
              "  </tbody>\n",
              "</table>\n"
            ]
          },
          "metadata": {}
        },
        {
          "output_type": "display_data",
          "data": {
            "text/plain": [
              "<pandas.io.formats.style.Styler at 0x7f4a6c27f0d0>"
            ],
            "text/html": [
              "<style type=\"text/css\">\n",
              "</style>\n",
              "<table id=\"T_f844c\" class=\"dataframe\">\n",
              "  <caption><span style='font-size:150%;'>RMSD Table (excluding Hydrogens)</span></caption>\n",
              "  <thead>\n",
              "    <tr>\n",
              "      <th class=\"blank level0\" >&nbsp;</th>\n",
              "      <th id=\"T_f844c_level0_col0\" class=\"col_heading level0 col0\" >Rotation</th>\n",
              "      <th id=\"T_f844c_level0_col1\" class=\"col_heading level0 col1\" >Reorder</th>\n",
              "      <th id=\"T_f844c_level0_col2\" class=\"col_heading level0 col2\" >ignore_H</th>\n",
              "      <th id=\"T_f844c_level0_col3\" class=\"col_heading level0 col3\" >RMSD</th>\n",
              "    </tr>\n",
              "  </thead>\n",
              "  <tbody>\n",
              "    <tr>\n",
              "      <th id=\"T_f844c_level0_row0\" class=\"row_heading level0 row0\" >0</th>\n",
              "      <td id=\"T_f844c_row0_col0\" class=\"data row0 col0\" >kabsch</td>\n",
              "      <td id=\"T_f844c_row0_col1\" class=\"data row0 col1\" >hungarian</td>\n",
              "      <td id=\"T_f844c_row0_col2\" class=\"data row0 col2\" >True</td>\n",
              "      <td id=\"T_f844c_row0_col3\" class=\"data row0 col3\" >0.070001</td>\n",
              "    </tr>\n",
              "    <tr>\n",
              "      <th id=\"T_f844c_level0_row1\" class=\"row_heading level0 row1\" >1</th>\n",
              "      <td id=\"T_f844c_row1_col0\" class=\"data row1 col0\" >kabsch</td>\n",
              "      <td id=\"T_f844c_row1_col1\" class=\"data row1 col1\" >inertia-hungarian</td>\n",
              "      <td id=\"T_f844c_row1_col2\" class=\"data row1 col2\" >True</td>\n",
              "      <td id=\"T_f844c_row1_col3\" class=\"data row1 col3\" >0.070001</td>\n",
              "    </tr>\n",
              "    <tr>\n",
              "      <th id=\"T_f844c_level0_row2\" class=\"row_heading level0 row2\" >2</th>\n",
              "      <td id=\"T_f844c_row2_col0\" class=\"data row2 col0\" >kabsch</td>\n",
              "      <td id=\"T_f844c_row2_col1\" class=\"data row2 col1\" >brute</td>\n",
              "      <td id=\"T_f844c_row2_col2\" class=\"data row2 col2\" >True</td>\n",
              "      <td id=\"T_f844c_row2_col3\" class=\"data row2 col3\" >0.070001</td>\n",
              "    </tr>\n",
              "    <tr>\n",
              "      <th id=\"T_f844c_level0_row3\" class=\"row_heading level0 row3\" >3</th>\n",
              "      <td id=\"T_f844c_row3_col0\" class=\"data row3 col0\" >kabsch</td>\n",
              "      <td id=\"T_f844c_row3_col1\" class=\"data row3 col1\" >distance</td>\n",
              "      <td id=\"T_f844c_row3_col2\" class=\"data row3 col2\" >True</td>\n",
              "      <td id=\"T_f844c_row3_col3\" class=\"data row3 col3\" >0.070001</td>\n",
              "    </tr>\n",
              "    <tr>\n",
              "      <th id=\"T_f844c_level0_row4\" class=\"row_heading level0 row4\" >4</th>\n",
              "      <td id=\"T_f844c_row4_col0\" class=\"data row4 col0\" >kabsch</td>\n",
              "      <td id=\"T_f844c_row4_col1\" class=\"data row4 col1\" >None</td>\n",
              "      <td id=\"T_f844c_row4_col2\" class=\"data row4 col2\" >True</td>\n",
              "      <td id=\"T_f844c_row4_col3\" class=\"data row4 col3\" >0.070001</td>\n",
              "    </tr>\n",
              "    <tr>\n",
              "      <th id=\"T_f844c_level0_row5\" class=\"row_heading level0 row5\" >5</th>\n",
              "      <td id=\"T_f844c_row5_col0\" class=\"data row5 col0\" >quaternion</td>\n",
              "      <td id=\"T_f844c_row5_col1\" class=\"data row5 col1\" >hungarian</td>\n",
              "      <td id=\"T_f844c_row5_col2\" class=\"data row5 col2\" >True</td>\n",
              "      <td id=\"T_f844c_row5_col3\" class=\"data row5 col3\" >0.070001</td>\n",
              "    </tr>\n",
              "    <tr>\n",
              "      <th id=\"T_f844c_level0_row6\" class=\"row_heading level0 row6\" >6</th>\n",
              "      <td id=\"T_f844c_row6_col0\" class=\"data row6 col0\" >quaternion</td>\n",
              "      <td id=\"T_f844c_row6_col1\" class=\"data row6 col1\" >inertia-hungarian</td>\n",
              "      <td id=\"T_f844c_row6_col2\" class=\"data row6 col2\" >True</td>\n",
              "      <td id=\"T_f844c_row6_col3\" class=\"data row6 col3\" >0.070001</td>\n",
              "    </tr>\n",
              "    <tr>\n",
              "      <th id=\"T_f844c_level0_row7\" class=\"row_heading level0 row7\" >7</th>\n",
              "      <td id=\"T_f844c_row7_col0\" class=\"data row7 col0\" >quaternion</td>\n",
              "      <td id=\"T_f844c_row7_col1\" class=\"data row7 col1\" >brute</td>\n",
              "      <td id=\"T_f844c_row7_col2\" class=\"data row7 col2\" >True</td>\n",
              "      <td id=\"T_f844c_row7_col3\" class=\"data row7 col3\" >0.070001</td>\n",
              "    </tr>\n",
              "    <tr>\n",
              "      <th id=\"T_f844c_level0_row8\" class=\"row_heading level0 row8\" >8</th>\n",
              "      <td id=\"T_f844c_row8_col0\" class=\"data row8 col0\" >quaternion</td>\n",
              "      <td id=\"T_f844c_row8_col1\" class=\"data row8 col1\" >distance</td>\n",
              "      <td id=\"T_f844c_row8_col2\" class=\"data row8 col2\" >True</td>\n",
              "      <td id=\"T_f844c_row8_col3\" class=\"data row8 col3\" >0.070001</td>\n",
              "    </tr>\n",
              "    <tr>\n",
              "      <th id=\"T_f844c_level0_row9\" class=\"row_heading level0 row9\" >9</th>\n",
              "      <td id=\"T_f844c_row9_col0\" class=\"data row9 col0\" >quaternion</td>\n",
              "      <td id=\"T_f844c_row9_col1\" class=\"data row9 col1\" >None</td>\n",
              "      <td id=\"T_f844c_row9_col2\" class=\"data row9 col2\" >True</td>\n",
              "      <td id=\"T_f844c_row9_col3\" class=\"data row9 col3\" >0.070001</td>\n",
              "    </tr>\n",
              "    <tr>\n",
              "      <th id=\"T_f844c_level0_row10\" class=\"row_heading level0 row10\" >10</th>\n",
              "      <td id=\"T_f844c_row10_col0\" class=\"data row10 col0\" >None</td>\n",
              "      <td id=\"T_f844c_row10_col1\" class=\"data row10 col1\" >hungarian</td>\n",
              "      <td id=\"T_f844c_row10_col2\" class=\"data row10 col2\" >True</td>\n",
              "      <td id=\"T_f844c_row10_col3\" class=\"data row10 col3\" >0.070001</td>\n",
              "    </tr>\n",
              "    <tr>\n",
              "      <th id=\"T_f844c_level0_row11\" class=\"row_heading level0 row11\" >11</th>\n",
              "      <td id=\"T_f844c_row11_col0\" class=\"data row11 col0\" >None</td>\n",
              "      <td id=\"T_f844c_row11_col1\" class=\"data row11 col1\" >inertia-hungarian</td>\n",
              "      <td id=\"T_f844c_row11_col2\" class=\"data row11 col2\" >True</td>\n",
              "      <td id=\"T_f844c_row11_col3\" class=\"data row11 col3\" >0.070001</td>\n",
              "    </tr>\n",
              "    <tr>\n",
              "      <th id=\"T_f844c_level0_row12\" class=\"row_heading level0 row12\" >12</th>\n",
              "      <td id=\"T_f844c_row12_col0\" class=\"data row12 col0\" >None</td>\n",
              "      <td id=\"T_f844c_row12_col1\" class=\"data row12 col1\" >brute</td>\n",
              "      <td id=\"T_f844c_row12_col2\" class=\"data row12 col2\" >True</td>\n",
              "      <td id=\"T_f844c_row12_col3\" class=\"data row12 col3\" >0.070001</td>\n",
              "    </tr>\n",
              "    <tr>\n",
              "      <th id=\"T_f844c_level0_row13\" class=\"row_heading level0 row13\" >13</th>\n",
              "      <td id=\"T_f844c_row13_col0\" class=\"data row13 col0\" >None</td>\n",
              "      <td id=\"T_f844c_row13_col1\" class=\"data row13 col1\" >distance</td>\n",
              "      <td id=\"T_f844c_row13_col2\" class=\"data row13 col2\" >True</td>\n",
              "      <td id=\"T_f844c_row13_col3\" class=\"data row13 col3\" >0.070001</td>\n",
              "    </tr>\n",
              "    <tr>\n",
              "      <th id=\"T_f844c_level0_row14\" class=\"row_heading level0 row14\" >14</th>\n",
              "      <td id=\"T_f844c_row14_col0\" class=\"data row14 col0\" >None</td>\n",
              "      <td id=\"T_f844c_row14_col1\" class=\"data row14 col1\" >None</td>\n",
              "      <td id=\"T_f844c_row14_col2\" class=\"data row14 col2\" >True</td>\n",
              "      <td id=\"T_f844c_row14_col3\" class=\"data row14 col3\" >0.070001</td>\n",
              "    </tr>\n",
              "  </tbody>\n",
              "</table>\n"
            ]
          },
          "metadata": {}
        }
      ]
    },
    {
      "cell_type": "code",
      "source": [
        "# voted RMSD with full 7 round_digits\n",
        "\n",
        "from rmsd_ipython import voting_RMSD\n",
        "\n",
        "RMSD_dic = voting_RMSD(xyz1, xyz2, round_digit=7)\n",
        "\n",
        "RMSD_with_H = RMSD_dic[\"with_H\"]\n",
        "RMSD_without_H = RMSD_dic[\"without_H\"]\n",
        "\n",
        "RMSD_with_H, RMSD_without_H"
      ],
      "metadata": {
        "id": "21Adj7MQJUFp",
        "outputId": "5fd9f2c5-c744-4843-b6cc-fc4153ef30ae",
        "colab": {
          "base_uri": "https://localhost:8080/"
        }
      },
      "execution_count": null,
      "outputs": [
        {
          "output_type": "execute_result",
          "data": {
            "text/plain": [
              "(0.0546549, 0.070001)"
            ]
          },
          "metadata": {},
          "execution_count": 17
        }
      ]
    },
    {
      "cell_type": "code",
      "source": [
        "# voted RMSD with full digits\n",
        "\n",
        "from rmsd_ipython import voting_RMSD\n",
        "\n",
        "RMSD_dic = voting_RMSD(xyz1, xyz2, round_digit=\"full\")\n",
        "\n",
        "RMSD_with_H = RMSD_dic[\"with_H\"]\n",
        "RMSD_without_H = RMSD_dic[\"without_H\"]\n",
        "\n",
        "RMSD_with_H, RMSD_without_H"
      ],
      "metadata": {
        "id": "B9KchKInKFzj",
        "outputId": "1f75875d-453e-4c54-d840-394f8d6397dc",
        "colab": {
          "base_uri": "https://localhost:8080/"
        }
      },
      "execution_count": null,
      "outputs": [
        {
          "output_type": "execute_result",
          "data": {
            "text/plain": [
              "(0.054654876183060135, 0.07000096634081729)"
            ]
          },
          "metadata": {},
          "execution_count": 18
        }
      ]
    },
    {
      "cell_type": "code",
      "source": [],
      "metadata": {
        "id": "SDvJUKKkPEbw"
      },
      "execution_count": null,
      "outputs": []
    }
  ],
  "metadata": {
    "colab": {
      "provenance": [],
      "include_colab_link": true
    },
    "kernelspec": {
      "display_name": "Python 3",
      "name": "python3"
    }
  },
  "nbformat": 4,
  "nbformat_minor": 0
}