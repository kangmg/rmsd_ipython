{
 "cells": [
  {
   "cell_type": "code",
   "execution_count": null,
   "metadata": {},
   "outputs": [],
   "source": [
    "!pip install -q git+https://github.com/kangmg/rmsd_ipython.git"
   ]
  },
  {
   "cell_type": "code",
   "execution_count": null,
   "metadata": {},
   "outputs": [],
   "source": [
    "import rmsd_ipython\n",
    "rmsd_ipython.__version__"
   ]
  },
  {
   "cell_type": "code",
   "execution_count": null,
   "metadata": {},
   "outputs": [],
   "source": [
    "from rmsd_ipython import rmsd_options\n",
    "\n",
    "rmsd_options()"
   ]
  },
  {
   "cell_type": "code",
   "execution_count": 2,
   "metadata": {},
   "outputs": [],
   "source": [
    "xyz1 = \"\"\"6\n",
    "\n",
    "Cl    0.000315113091   -4.851256508727    0.000000000000\n",
    "Si    0.000008122666   -0.081479435428    0.000000000000\n",
    "H   -1.409996918298   -0.481349820968    0.000000000000\n",
    "H    0.705178765477   -0.481189816756   -1.221101893621\n",
    "H    0.705178765477   -0.481189816756    1.221101893621\n",
    "Br   -0.000147111879    2.196922164251    0.000000000000\"\"\"\n",
    "\n",
    "xyz2 = \"\"\"6\n",
    "\n",
    "Cl    0.000308701706   -4.739114565961    0.000000000000\n",
    "Si    0.000011888584   -0.119054586111    0.000000000000\n",
    "H   -1.411266251779   -0.514082066748    0.000000000000\n",
    "H    0.705205731485   -0.514578303328   -1.222045485239\n",
    "H    0.705205731485   -0.514578303328    1.222045485239\n",
    "Br   -0.000130084759    2.161823224660    0.000000000000\"\"\""
   ]
  },
  {
   "cell_type": "code",
   "execution_count": null,
   "metadata": {},
   "outputs": [],
   "source": [
    "from rmsd_ipython import get_rmsd\n",
    "\n",
    "get_rmsd(xyz1, xyz2, rotation_method=\"quaternion\", reorder_method=\"hungarian\", ignore_hydrogen=False)"
   ]
  },
  {
   "cell_type": "code",
   "execution_count": null,
   "metadata": {},
   "outputs": [],
   "source": [
    "from rmsd_ipython import RMSD_TABLE\n",
    "\n",
    "RMSD_TABLE(xyz1, xyz2, exclude_None_option=False)"
   ]
  },
  {
   "cell_type": "code",
   "execution_count": null,
   "metadata": {},
   "outputs": [],
   "source": [
    "from rmsd_ipython import voting_RMSD\n",
    "\n",
    "RMSD_dic = voting_RMSD(xyz1, xyz2)\n",
    "\n",
    "RMSD_with_H = RMSD_dic[\"with_H\"]\n",
    "RMSD_without_H = RMSD_dic[\"without_H\"]"
   ]
  }
 ],
 "metadata": {
  "kernelspec": {
   "display_name": "Python 3",
   "language": "python",
   "name": "python3"
  },
  "language_info": {
   "codemirror_mode": {
    "name": "ipython",
    "version": 3
   },
   "file_extension": ".py",
   "mimetype": "text/x-python",
   "name": "python",
   "nbconvert_exporter": "python",
   "pygments_lexer": "ipython3",
   "version": "3.11.9"
  }
 },
 "nbformat": 4,
 "nbformat_minor": 2
}
